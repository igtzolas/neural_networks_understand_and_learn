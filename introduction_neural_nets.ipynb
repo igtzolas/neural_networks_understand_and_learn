{
 "cells": [
  {
   "cell_type": "code",
   "execution_count": 1,
   "id": "assumed-vanilla",
   "metadata": {},
   "outputs": [
    {
     "name": "stderr",
     "output_type": "stream",
     "text": [
      "Setting up a new session...\n"
     ]
    }
   ],
   "source": [
    "import torch\n",
    "import torch.nn as nn\n",
    "import torch.optim as optim\n",
    "import torch.nn.functional as F\n",
    "import torch.distributions as distributions\n",
    "\n",
    "import numpy as np\n",
    "\n",
    "import visdom\n",
    "vis = visdom.Visdom()\n",
    "\n",
    "import time"
   ]
  },
  {
   "cell_type": "markdown",
   "id": "surprising-emergency",
   "metadata": {},
   "source": [
    "## Generate and plot some data"
   ]
  },
  {
   "cell_type": "code",
   "execution_count": 2,
   "id": "convenient-andrew",
   "metadata": {},
   "outputs": [],
   "source": [
    "normal_distribution = distributions.Normal(0.0, 1)\n",
    "x_values = torch.arange(1., 30.1).reshape(-1, 1)\n",
    "class_0_y_values = (1 / 3.) * x_values\n",
    "class_0_y_values += normal_distribution.sample(class_0_y_values.shape)\n",
    "class_1_y_values = (1.5) * x_values \n",
    "class_1_y_values += normal_distribution.sample(class_1_y_values.shape)\n",
    "X = torch.cat([torch.cat([x_values, class_0_y_values], axis = 1), torch.cat([x_values, class_1_y_values], axis = 1)], axis = 0) \n",
    "y = torch.cat([torch.zeros((int(X.shape[0]/2), 1)), torch.ones((int(X.shape[0]/2), 1))], axis = 0)\n",
    "\n",
    "np_X = np.array(X)\n",
    "color = np.zeros((np_X.shape[0], 1))\n",
    "color[int(color.shape[0] / 2):, :] = 1"
   ]
  },
  {
   "cell_type": "code",
   "execution_count": 3,
   "id": "dried-budapest",
   "metadata": {},
   "outputs": [
    {
     "data": {
      "text/plain": [
       "'Scatterplot'"
      ]
     },
     "execution_count": 3,
     "metadata": {},
     "output_type": "execute_result"
    }
   ],
   "source": [
    "vis.scatter(np_X, color + 1, env = \"intro\", win = \"Scatterplot\")"
   ]
  },
  {
   "cell_type": "code",
   "execution_count": 4,
   "id": "surface-helena",
   "metadata": {},
   "outputs": [
    {
     "data": {
      "text/plain": [
       "'Line'"
      ]
     },
     "execution_count": 4,
     "metadata": {},
     "output_type": "execute_result"
    }
   ],
   "source": [
    "vis.line(class_0_y_values.reshape(-1), x_values.reshape(-1), env = \"intro\", win = \"Line\", name = \"class_0\")\n",
    "vis.line(class_1_y_values.reshape(-1), x_values.reshape(-1), env = \"intro\", win = \"Line\", name = \"class_1\", update = \"replace\")"
   ]
  },
  {
   "cell_type": "markdown",
   "id": "guilty-definition",
   "metadata": {},
   "source": [
    "## Define a neural network with a single neuron"
   ]
  },
  {
   "cell_type": "code",
   "execution_count": 5,
   "id": "dominican-summer",
   "metadata": {},
   "outputs": [],
   "source": [
    "# Definition of the neural network\n",
    "class SingleNeuronNeuralNetwork(nn.Module):\n",
    "    def __init__(self):\n",
    "        super(SingleNeuronNeuralNetwork, self).__init__()\n",
    "        self.single_neuron_linear_layer = nn.Linear(2, 1, bias = False)\n",
    "\n",
    "    def forward(self, X):\n",
    "        return self.single_neuron_linear_layer.forward(X)"
   ]
  },
  {
   "cell_type": "code",
   "execution_count": 6,
   "id": "german-occasion",
   "metadata": {},
   "outputs": [],
   "source": [
    "neural_network = SingleNeuronNeuralNetwork()\n",
    "learning_rate = 0.01\n",
    "optimizer = optim.Adam(neural_network.parameters(), lr = learning_rate)"
   ]
  },
  {
   "cell_type": "markdown",
   "id": "little-closer",
   "metadata": {},
   "source": [
    "## Training the neural network"
   ]
  },
  {
   "cell_type": "code",
   "execution_count": 7,
   "id": "powerful-player",
   "metadata": {},
   "outputs": [
    {
     "name": "stdout",
     "output_type": "stream",
     "text": [
      "Training epoch: 0 - Loss: 12.54507827758789\n",
      "Training epoch: 100 - Loss: 0.4178733825683594\n",
      "Training epoch: 200 - Loss: 0.19788159430027008\n",
      "Training epoch: 300 - Loss: 0.14432086050510406\n",
      "Training epoch: 400 - Loss: 0.1178559884428978\n",
      "Training epoch: 500 - Loss: 0.10133636742830276\n",
      "Training epoch: 600 - Loss: 0.08971814066171646\n",
      "Training epoch: 700 - Loss: 0.08093252032995224\n",
      "Training epoch: 800 - Loss: 0.07395780831575394\n",
      "Training epoch: 900 - Loss: 0.06822485476732254\n"
     ]
    }
   ],
   "source": [
    "number_of_training_epochs = 1000\n",
    "for training_epoch in range(number_of_training_epochs):\n",
    "    # Training loop \n",
    "    answers = neural_network.forward(X)\n",
    "    loss = F.binary_cross_entropy_with_logits(answers, y)\n",
    "\n",
    "    optimizer.zero_grad()\n",
    "    loss.backward()\n",
    "    optimizer.step()\n",
    "    \n",
    "    if training_epoch % 100 == 0:\n",
    "        # There should be a decrease in the loss! \n",
    "        print(f\"Training epoch: {training_epoch} - Loss: {loss.item()}\")\n",
    "        \n",
    "        vis.line(class_0_y_values.reshape(-1), x_values.reshape(-1), env = \"intro\", win = \"Line\", name = \"class_0\", update = \"replace\")\n",
    "        vis.line(class_1_y_values.reshape(-1), x_values.reshape(-1), env = \"intro\", win = \"Line\", name = \"class_1\", update = \"replace\")\n",
    "        question = (neural_network.single_neuron_linear_layer.weight[0, 1] / neural_network.single_neuron_linear_layer.weight[0, 0] * x_values).reshape(-1)\n",
    "        vis.line(question, x_values.reshape(-1), env = \"intro\", win = \"Line\", name = \"question\", update = \"replace\")\n",
    "        question_perpendicular = -(neural_network.single_neuron_linear_layer.weight[0, 0] / neural_network.single_neuron_linear_layer.weight[0, 1] * x_values).reshape(-1)\n",
    "        vis.line(question_perpendicular, x_values.reshape(-1), env = \"intro\", win = \"Line\", name = \"perpendicular_to_question\", update = \"replace\")\n",
    "        time.sleep(1)"
   ]
  },
  {
   "cell_type": "code",
   "execution_count": 34,
   "id": "premier-electronics",
   "metadata": {},
   "outputs": [],
   "source": [
    "# F.sigmoid(neural_network.forward(X))"
   ]
  },
  {
   "cell_type": "code",
   "execution_count": null,
   "id": "royal-teddy",
   "metadata": {},
   "outputs": [],
   "source": []
  },
  {
   "cell_type": "code",
   "execution_count": null,
   "id": "united-insider",
   "metadata": {},
   "outputs": [],
   "source": []
  },
  {
   "cell_type": "code",
   "execution_count": null,
   "id": "significant-force",
   "metadata": {},
   "outputs": [],
   "source": []
  },
  {
   "cell_type": "code",
   "execution_count": null,
   "id": "professional-basic",
   "metadata": {},
   "outputs": [],
   "source": []
  }
 ],
 "metadata": {
  "kernelspec": {
   "display_name": "Python 3",
   "language": "python",
   "name": "python3"
  },
  "language_info": {
   "codemirror_mode": {
    "name": "ipython",
    "version": 3
   },
   "file_extension": ".py",
   "mimetype": "text/x-python",
   "name": "python",
   "nbconvert_exporter": "python",
   "pygments_lexer": "ipython3",
   "version": "3.8.5"
  }
 },
 "nbformat": 4,
 "nbformat_minor": 5
}
